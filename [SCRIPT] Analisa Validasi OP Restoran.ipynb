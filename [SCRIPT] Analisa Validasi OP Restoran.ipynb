{
 "cells": [
  {
   "cell_type": "markdown",
   "id": "fd6c0c37",
   "metadata": {},
   "source": [
    "# 1. IMPORT PACKAGE"
   ]
  },
  {
   "cell_type": "code",
   "execution_count": 1,
   "id": "937b2b1b",
   "metadata": {},
   "outputs": [],
   "source": [
    "import geopandas as gpd\n",
    "import pandas as pd\n",
    "import numpy as np\n",
    "import matplotlib.pyplot as plt\n",
    "import seaborn as sns"
   ]
  },
  {
   "cell_type": "markdown",
   "id": "1256818d",
   "metadata": {},
   "source": [
    "# 2. IMPORT DATA RESTO, SETMA, DAN TABEL REFERENSI"
   ]
  },
  {
   "cell_type": "markdown",
   "id": "fd00b543",
   "metadata": {},
   "source": [
    "**A. Import dan melihat field data OP Restoran**"
   ]
  },
  {
   "cell_type": "code",
   "execution_count": 2,
   "id": "40e7d4dc",
   "metadata": {},
   "outputs": [
    {
     "data": {
      "text/plain": [
       "FID_RESTO_             int64\n",
       "LOG_FULLNA            object\n",
       "LOG_TIME      datetime64[ns]\n",
       "NOPD                  object\n",
       "NPWPD                 object\n",
       "                   ...      \n",
       "d_ATRIBUTE            object\n",
       "d_LOKASI              object\n",
       "d_STATUS_C            object\n",
       "d_NAMA_SGA            object\n",
       "geometry            geometry\n",
       "Length: 200, dtype: object"
      ]
     },
     "execution_count": 2,
     "metadata": {},
     "output_type": "execute_result"
    }
   ],
   "source": [
    "resto = gpd.read_file('C:/Users/ASUS/Documents/Sabila Haq/Junior DS/Data_20-10-2022/resto/resto.shp')\n",
    "resto['LOG_TIME'] = pd.to_datetime(resto['LOG_TIME'])\n",
    "resto.dtypes"
   ]
  },
  {
   "cell_type": "markdown",
   "id": "af1bd41c",
   "metadata": {},
   "source": [
    "Melihat informasi data OP Restoran secara menyeluruh"
   ]
  },
  {
   "cell_type": "code",
   "execution_count": 3,
   "id": "79163050",
   "metadata": {},
   "outputs": [
    {
     "name": "stdout",
     "output_type": "stream",
     "text": [
      "<class 'geopandas.geodataframe.GeoDataFrame'>\n",
      "RangeIndex: 11728 entries, 0 to 11727\n",
      "Columns: 200 entries, FID_RESTO_ to geometry\n",
      "dtypes: datetime64[ns](1), float64(31), geometry(1), int64(9), object(158)\n",
      "memory usage: 17.9+ MB\n"
     ]
    }
   ],
   "source": [
    "resto.info()"
   ]
  },
  {
   "cell_type": "markdown",
   "id": "939de332",
   "metadata": {},
   "source": [
    "**B. Subset dan menampilkan hasil subset data OP Restoran**"
   ]
  },
  {
   "cell_type": "code",
   "execution_count": null,
   "id": "404d4e70",
   "metadata": {},
   "outputs": [],
   "source": [
    "rest = resto[['GUID', 'NAMA_OP', 'NOPD', 'LOG_TIME']]\n",
    "rest = rest.sort_values(by=['GUID','NAMA_OP','LOG_TIME'])\n",
    "rest['NOPD'] = rest['NOPD'].str.replace(r'\\W','')\n",
    "\n",
    "rest"
   ]
  },
  {
   "cell_type": "markdown",
   "id": "74549143",
   "metadata": {},
   "source": [
    "**C. Import dan melihat info data Setma**"
   ]
  },
  {
   "cell_type": "code",
   "execution_count": 5,
   "id": "7632d74a",
   "metadata": {},
   "outputs": [
    {
     "name": "stdout",
     "output_type": "stream",
     "text": [
      "<class 'geopandas.geodataframe.GeoDataFrame'>\n",
      "RangeIndex: 39140 entries, 0 to 39139\n",
      "Data columns (total 38 columns):\n",
      " #   Column             Non-Null Count  Dtype   \n",
      "---  ------             --------------  -----   \n",
      " 0   Alamat             39140 non-null  object  \n",
      " 1   Alamatpemilik      39133 non-null  object  \n",
      " 2   Catatan_Tutup      12316 non-null  object  \n",
      " 3   Jns_Wp             39134 non-null  object  \n",
      " 4   Kecamatan          38865 non-null  object  \n",
      " 5   Kelurahan          38861 non-null  object  \n",
      " 6   Klasifikasi        39035 non-null  object  \n",
      " 7   Kodebentuk         39134 non-null  object  \n",
      " 8   Kodepajak          39140 non-null  object  \n",
      " 9   Kodeunit           39139 non-null  float64 \n",
      " 10  Lhp_Surat_Tutup    12316 non-null  object  \n",
      " 11  Nama               39140 non-null  object  \n",
      " 12  Namapajak          39140 non-null  object  \n",
      " 13  Namapemilik        39134 non-null  object  \n",
      " 14  Namasifat          39140 non-null  object  \n",
      " 15  Namastatus         39140 non-null  object  \n",
      " 16  Namaunit           39139 non-null  object  \n",
      " 17  Namawilayah        39139 non-null  object  \n",
      " 18  No_Identitas       34163 non-null  object  \n",
      " 19  Nomorpengukuhan    9922 non-null   float64 \n",
      " 20  NOP                39140 non-null  object  \n",
      " 21  Notelepon          31667 non-null  object  \n",
      " 22  Npwp               39140 non-null  object  \n",
      " 23  Pengukuhan         39140 non-null  object  \n",
      " 24  Sifat              39140 non-null  object  \n",
      " 25  Status             39140 non-null  object  \n",
      " 26  Tanggalpengukuhan  20437 non-null  object  \n",
      " 27  Tgl_Tutup          12316 non-null  object  \n",
      " 28  Tgldaftar          39102 non-null  object  \n",
      " 29  Tgldaftar_Npwpd    38305 non-null  object  \n",
      " 30  Tgloperasi         38996 non-null  object  \n",
      " 31  Tglterbit_Nopd     25373 non-null  object  \n",
      " 32  Tgl_Update_Status  12316 non-null  object  \n",
      " 33  Unitpendaftar      39140 non-null  object  \n",
      " 34  X_Kec              39139 non-null  object  \n",
      " 35  X_Kelurahan        38853 non-null  object  \n",
      " 36  NOPD_2             39139 non-null  object  \n",
      " 37  geometry           0 non-null      geometry\n",
      "dtypes: float64(2), geometry(1), object(35)\n",
      "memory usage: 11.3+ MB\n"
     ]
    }
   ],
   "source": [
    "setma = gpd.read_file('C:/Users/ASUS/Documents/Sabila Haq/Junior DS/Data_20-10-2022/SP2D_OBJEK_202207082010.gdb')\n",
    "setma.info()"
   ]
  },
  {
   "cell_type": "markdown",
   "id": "79e13477",
   "metadata": {},
   "source": [
    "**D. Subset data Setma**"
   ]
  },
  {
   "cell_type": "code",
   "execution_count": null,
   "id": "54e34e92",
   "metadata": {},
   "outputs": [],
   "source": [
    "setma = setma[['NOPD_2', 'Nama', 'Klasifikasi', 'Status']]\n",
    "setma = setma[setma['Klasifikasi']=='Restoran']\n",
    "setma['NOPD'] = setma['NOPD_2']\n",
    "setma = setma[['NOPD', 'Nama', 'Klasifikasi', 'Status']]\n",
    "setma"
   ]
  },
  {
   "cell_type": "markdown",
   "id": "27c97b7e",
   "metadata": {},
   "source": [
    "**E. Import dan melihat info data Table Referensi**"
   ]
  },
  {
   "cell_type": "code",
   "execution_count": 7,
   "id": "35f0d36a",
   "metadata": {},
   "outputs": [
    {
     "name": "stdout",
     "output_type": "stream",
     "text": [
      "<class 'pandas.core.frame.DataFrame'>\n",
      "RangeIndex: 8152 entries, 0 to 8151\n",
      "Data columns (total 4 columns):\n",
      " #   Column      Non-Null Count  Dtype \n",
      "---  ------      --------------  ----- \n",
      " 0   Unnamed: 0  8152 non-null   int64 \n",
      " 1   NAMA OP     8152 non-null   object\n",
      " 2   ALIAS       8152 non-null   object\n",
      " 3   DUP         8152 non-null   bool  \n",
      "dtypes: bool(1), int64(1), object(2)\n",
      "memory usage: 199.1+ KB\n"
     ]
    }
   ],
   "source": [
    "tab_ref = pd.read_excel('C:/Users/ASUS/Documents/Sabila Haq/Junior DS/Data_20-10-2022/Tabel Referensi Resto_4.xlsx')\n",
    "tab_ref.info()"
   ]
  },
  {
   "cell_type": "markdown",
   "id": "dec664b4",
   "metadata": {},
   "source": [
    "**F. Subset data Table Referensi**"
   ]
  },
  {
   "cell_type": "code",
   "execution_count": 8,
   "id": "8b1ff2a3",
   "metadata": {},
   "outputs": [
    {
     "data": {
      "text/html": [
       "<div>\n",
       "<style scoped>\n",
       "    .dataframe tbody tr th:only-of-type {\n",
       "        vertical-align: middle;\n",
       "    }\n",
       "\n",
       "    .dataframe tbody tr th {\n",
       "        vertical-align: top;\n",
       "    }\n",
       "\n",
       "    .dataframe thead th {\n",
       "        text-align: right;\n",
       "    }\n",
       "</style>\n",
       "<table border=\"1\" class=\"dataframe\">\n",
       "  <thead>\n",
       "    <tr style=\"text-align: right;\">\n",
       "      <th></th>\n",
       "      <th>NAMA_OP</th>\n",
       "      <th>NAMA OP</th>\n",
       "    </tr>\n",
       "  </thead>\n",
       "  <tbody>\n",
       "    <tr>\n",
       "      <th>0</th>\n",
       "      <td>\"BAKSO WULANDARI\"</td>\n",
       "      <td>\"BAKSO WULANDARI\"</td>\n",
       "    </tr>\n",
       "    <tr>\n",
       "      <th>1</th>\n",
       "      <td>% ARABICA</td>\n",
       "      <td>% ARABICA</td>\n",
       "    </tr>\n",
       "    <tr>\n",
       "      <th>2</th>\n",
       "      <td>%ARABICA | ASHTA DISTRICT 8</td>\n",
       "      <td>% ARABICA</td>\n",
       "    </tr>\n",
       "    <tr>\n",
       "      <th>3</th>\n",
       "      <td>1/15 (SATU PER LIMA BELAS)</td>\n",
       "      <td>1/15 (SATU PER LIMA BELAS)</td>\n",
       "    </tr>\n",
       "    <tr>\n",
       "      <th>4</th>\n",
       "      <td>103 BAKMI</td>\n",
       "      <td>103 BAKMI</td>\n",
       "    </tr>\n",
       "    <tr>\n",
       "      <th>...</th>\n",
       "      <td>...</td>\n",
       "      <td>...</td>\n",
       "    </tr>\n",
       "    <tr>\n",
       "      <th>8147</th>\n",
       "      <td>ZHENGDA</td>\n",
       "      <td>ZHENGDA</td>\n",
       "    </tr>\n",
       "    <tr>\n",
       "      <th>8148</th>\n",
       "      <td>ZIN HOKKAIDO SHABU-SHABU AND YAKINIKU</td>\n",
       "      <td>ZIN HOKKAIDO SHABU-SHABU AND YAKINIKU</td>\n",
       "    </tr>\n",
       "    <tr>\n",
       "      <th>8149</th>\n",
       "      <td>ZOKU</td>\n",
       "      <td>ZOKU</td>\n",
       "    </tr>\n",
       "    <tr>\n",
       "      <th>8150</th>\n",
       "      <td>ZUBU</td>\n",
       "      <td>ZUBU</td>\n",
       "    </tr>\n",
       "    <tr>\n",
       "      <th>8151</th>\n",
       "      <td>ZUTTO</td>\n",
       "      <td>ZUTTO</td>\n",
       "    </tr>\n",
       "  </tbody>\n",
       "</table>\n",
       "<p>8152 rows × 2 columns</p>\n",
       "</div>"
      ],
      "text/plain": [
       "                                    NAMA_OP  \\\n",
       "0                         \"BAKSO WULANDARI\"   \n",
       "1                                 % ARABICA   \n",
       "2               %ARABICA | ASHTA DISTRICT 8   \n",
       "3                1/15 (SATU PER LIMA BELAS)   \n",
       "4                                 103 BAKMI   \n",
       "...                                     ...   \n",
       "8147                                ZHENGDA   \n",
       "8148  ZIN HOKKAIDO SHABU-SHABU AND YAKINIKU   \n",
       "8149                                   ZOKU   \n",
       "8150                                   ZUBU   \n",
       "8151                                  ZUTTO   \n",
       "\n",
       "                                    NAMA OP  \n",
       "0                         \"BAKSO WULANDARI\"  \n",
       "1                                 % ARABICA  \n",
       "2                                 % ARABICA  \n",
       "3                1/15 (SATU PER LIMA BELAS)  \n",
       "4                                 103 BAKMI  \n",
       "...                                     ...  \n",
       "8147                                ZHENGDA  \n",
       "8148  ZIN HOKKAIDO SHABU-SHABU AND YAKINIKU  \n",
       "8149                                   ZOKU  \n",
       "8150                                   ZUBU  \n",
       "8151                                  ZUTTO  \n",
       "\n",
       "[8152 rows x 2 columns]"
      ]
     },
     "execution_count": 8,
     "metadata": {},
     "output_type": "execute_result"
    }
   ],
   "source": [
    "tab_ref.rename(columns={'ALIAS': 'NAMA_OP'}, inplace=True)\n",
    "tab_ref = tab_ref[['NAMA_OP', 'NAMA OP']]\n",
    "tab_ref"
   ]
  },
  {
   "cell_type": "markdown",
   "id": "e0c41194",
   "metadata": {},
   "source": [
    "# 3. CEK DUPLICATE GUID DAN NOPD"
   ]
  },
  {
   "cell_type": "markdown",
   "id": "08bed6bd",
   "metadata": {},
   "source": [
    "**A. Cek duplikasi keseluruhan data OP Restoran**"
   ]
  },
  {
   "cell_type": "code",
   "execution_count": 9,
   "id": "a147faae",
   "metadata": {},
   "outputs": [
    {
     "name": "stdout",
     "output_type": "stream",
     "text": [
      "Jumlah Data Valid :  11728\n",
      "Jumlah Data Tidak Valid :  0\n"
     ]
    }
   ],
   "source": [
    "rest['DUPLICATE'] = np.where(rest.duplicated(keep=False), 'TIDAK VALID', 'VALID')\n",
    "\n",
    "v = len(rest[rest['DUPLICATE']=='VALID'].index)\n",
    "tv = len(rest[rest['DUPLICATE']=='TIDAK VALID'].index)\n",
    "\n",
    "print('Jumlah Data Valid : ', v)\n",
    "print('Jumlah Data Tidak Valid : ', tv)"
   ]
  },
  {
   "cell_type": "markdown",
   "id": "01904420",
   "metadata": {},
   "source": [
    "**B. Cek duplikasi data OP Restoran berdasarkan kesamaan GUID dan NOPD**<br>\n",
    "_Data yang tidak ada duplikasi dinyatakan valid dan sebaliknya_"
   ]
  },
  {
   "cell_type": "code",
   "execution_count": 10,
   "id": "af1d4036",
   "metadata": {
    "scrolled": true
   },
   "outputs": [
    {
     "name": "stdout",
     "output_type": "stream",
     "text": [
      "Jumlah Data Valid :  10135\n",
      "Jumlah Data Tidak Valid :  1593\n"
     ]
    }
   ],
   "source": [
    "rest['DUPLICATE'] = np.where(rest.duplicated(subset=['GUID','NOPD'], keep=False), 'TIDAK VALID', rest['DUPLICATE'])\n",
    "\n",
    "v = len(rest[rest['DUPLICATE']=='VALID'].index)\n",
    "tv = len(rest[rest['DUPLICATE']=='TIDAK VALID'].index)\n",
    "\n",
    "print('Jumlah Data Valid : ', v)\n",
    "print('Jumlah Data Tidak Valid : ', tv)"
   ]
  },
  {
   "cell_type": "markdown",
   "id": "d6e95f9a",
   "metadata": {},
   "source": [
    "Menampilkan jumlah duplikasi"
   ]
  },
  {
   "cell_type": "code",
   "execution_count": 11,
   "id": "2d766bb5",
   "metadata": {},
   "outputs": [
    {
     "name": "stdout",
     "output_type": "stream",
     "text": [
      "Hasil Cek Duplikat GUID dan NOPD: \n",
      "- Tidak Ada :  10135 \n",
      "- Ada :  1593\n"
     ]
    }
   ],
   "source": [
    "v = len(rest[rest['DUPLICATE']=='VALID'].index)\n",
    "tv = len(rest[rest['DUPLICATE']=='TIDAK VALID'].index)\n",
    "\n",
    "print('Hasil Cek Duplikat GUID dan NOPD: ')\n",
    "print('- Tidak Ada : ', v, (''))\n",
    "print('- Ada : ', tv)"
   ]
  },
  {
   "cell_type": "markdown",
   "id": "162078c4",
   "metadata": {},
   "source": [
    "# 4. CEK KETERISIAN NOPD"
   ]
  },
  {
   "cell_type": "markdown",
   "id": "f5794f71",
   "metadata": {},
   "source": [
    "**A. Pengecekan keterisian NOPD pada data tidak NOPD kosong**"
   ]
  },
  {
   "cell_type": "code",
   "execution_count": 12,
   "id": "64820b01",
   "metadata": {},
   "outputs": [
    {
     "name": "stdout",
     "output_type": "stream",
     "text": [
      "Hasil Cek Keterisian NOPD: \n",
      "Jumlah Data Terisi :  130\n",
      "Jumlah Data Tidak Terisi :  1463\n"
     ]
    }
   ],
   "source": [
    "rest['CEK NOPD 1'] = np.where(rest['DUPLICATE']=='VALID', '-', 'TERISI')\n",
    "rest['CEK NOPD 1'] = np.where((rest['CEK NOPD 1']=='TERISI')&(rest['NOPD'].isnull()), 'KOSONG', rest['CEK NOPD 1'])\n",
    "\n",
    "a = len(rest[rest['CEK NOPD 1']=='TERISI'].index)\n",
    "ta = len(rest[rest['CEK NOPD 1']=='KOSONG'].index)\n",
    "\n",
    "print('Hasil Cek Keterisian NOPD: ')\n",
    "print('Jumlah Data Terisi : ', a)\n",
    "print('Jumlah Data Tidak Terisi : ', ta)"
   ]
  },
  {
   "cell_type": "markdown",
   "id": "565a4791",
   "metadata": {},
   "source": [
    "# 5. CEK KESAMAAN NOPD TERISI"
   ]
  },
  {
   "cell_type": "markdown",
   "id": "4d4b610d",
   "metadata": {},
   "source": [
    "**A. Pengecekan kesamaan Nama OP pada data NOPD terisi**"
   ]
  },
  {
   "cell_type": "code",
   "execution_count": 13,
   "id": "a947c6e4",
   "metadata": {},
   "outputs": [
    {
     "name": "stdout",
     "output_type": "stream",
     "text": [
      "Hasil Cek Kesamaan NAMA OP: \n",
      "Jumlah Data Sama :  115\n",
      "Jumlah Data Beda :  15\n"
     ]
    }
   ],
   "source": [
    "rest['CEK NAMA OP 1'] = np.where(rest['CEK NOPD 1']=='TERISI', 'BEDA', '-')\n",
    "rest['CEK NAMA OP 1'] = np.where((rest['CEK NAMA OP 1']=='BEDA')&(rest.duplicated(subset=['GUID','NAMA_OP','NOPD'], keep=False)), 'SAMA', rest['CEK NAMA OP 1'])\n",
    "\n",
    "s = len(rest[rest['CEK NAMA OP 1']=='SAMA'].index)\n",
    "b = len(rest[rest['CEK NAMA OP 1']=='BEDA'].index)\n",
    "\n",
    "print('Hasil Cek Kesamaan NAMA OP: ')\n",
    "print('Jumlah Data Sama : ', s)\n",
    "print('Jumlah Data Beda : ', b)"
   ]
  },
  {
   "cell_type": "markdown",
   "id": "08c53754",
   "metadata": {},
   "source": [
    "**B. Pengecekan data terbaru dari data yang Nama OP sama**"
   ]
  },
  {
   "cell_type": "code",
   "execution_count": 14,
   "id": "c27d59b8",
   "metadata": {},
   "outputs": [
    {
     "name": "stdout",
     "output_type": "stream",
     "text": [
      "Hasil Cek Logtime Data NAMA OP Sama: \n",
      "Jumlah Data Terupdate :  59\n",
      "Jumlah Data Lama :  56\n"
     ]
    }
   ],
   "source": [
    "rest['CEK UP'] = np.where(rest['CEK NAMA OP 1']=='SAMA', 'LAMA', '-')\n",
    "rest['CEK UP'] = np.where((rest['CEK NAMA OP 1']=='SAMA')&(rest['NOPD'].duplicated(keep='first')), 'BARU', rest['CEK UP'])\n",
    "rest['CEK UP'].value_counts()\n",
    "\n",
    "b = len(rest[rest['CEK UP']=='BARU'].index)\n",
    "l = len(rest[rest['CEK UP']=='LAMA'].index)\n",
    "\n",
    "print('Hasil Cek Logtime Data NAMA OP Sama: ')\n",
    "print('Jumlah Data Terupdate : ', b)\n",
    "print('Jumlah Data Lama : ', l)"
   ]
  },
  {
   "cell_type": "markdown",
   "id": "4524d95c",
   "metadata": {},
   "source": [
    "**C. Penetapan validasi sementara berdasarkan data terupdate**"
   ]
  },
  {
   "cell_type": "code",
   "execution_count": 15,
   "id": "b46b93dd",
   "metadata": {},
   "outputs": [
    {
     "name": "stdout",
     "output_type": "stream",
     "text": [
      "Hasil Validasi Sementara: \n",
      "Jumlah Data Valid :  10194\n",
      "Jumlah Data Tidak Valid :  1534\n"
     ]
    }
   ],
   "source": [
    "rest['DUPLICATE'] = np.where(rest['CEK UP']=='BARU', 'VALID', rest['DUPLICATE'])\n",
    "\n",
    "v = len(rest[rest['DUPLICATE']=='VALID'].index)\n",
    "tv = len(rest[rest['DUPLICATE']=='TIDAK VALID'].index)\n",
    "\n",
    "print('Hasil Validasi Sementara: ')\n",
    "print('Jumlah Data Valid : ', v)\n",
    "print('Jumlah Data Tidak Valid : ', tv)"
   ]
  },
  {
   "cell_type": "markdown",
   "id": "59810cb8",
   "metadata": {},
   "source": [
    "# 6. PENGECEKAN VALIDASI DATA RESTO PADA DATA SETMA"
   ]
  },
  {
   "cell_type": "markdown",
   "id": "88496710",
   "metadata": {},
   "source": [
    "**A. Join data OP Restoran dan data Setma, serta menampilkan info data hasil join**"
   ]
  },
  {
   "cell_type": "code",
   "execution_count": 16,
   "id": "aa683024",
   "metadata": {},
   "outputs": [
    {
     "name": "stdout",
     "output_type": "stream",
     "text": [
      "<class 'pandas.core.frame.DataFrame'>\n",
      "Int64Index: 11728 entries, 0 to 11727\n",
      "Data columns (total 11 columns):\n",
      " #   Column         Non-Null Count  Dtype         \n",
      "---  ------         --------------  -----         \n",
      " 0   GUID           11646 non-null  object        \n",
      " 1   NAMA_OP        11712 non-null  object        \n",
      " 2   NOPD           9073 non-null   object        \n",
      " 3   LOG_TIME       11728 non-null  datetime64[ns]\n",
      " 4   DUPLICATE      11728 non-null  object        \n",
      " 5   CEK NOPD 1     11728 non-null  object        \n",
      " 6   CEK NAMA OP 1  11728 non-null  object        \n",
      " 7   CEK UP         11728 non-null  object        \n",
      " 8   Nama           3148 non-null   object        \n",
      " 9   Klasifikasi    3148 non-null   object        \n",
      " 10  Status         3148 non-null   object        \n",
      "dtypes: datetime64[ns](1), object(10)\n",
      "memory usage: 1.1+ MB\n"
     ]
    }
   ],
   "source": [
    "df = pd.merge(rest,setma, on = 'NOPD', how='left')\n",
    "df.info()"
   ]
  },
  {
   "cell_type": "markdown",
   "id": "7185c4d3",
   "metadata": {},
   "source": [
    "**B. Pengecekan keterisian NOPD (pada setma) data dengan Nama OP sama**"
   ]
  },
  {
   "cell_type": "code",
   "execution_count": 17,
   "id": "a72d641d",
   "metadata": {},
   "outputs": [
    {
     "name": "stdout",
     "output_type": "stream",
     "text": [
      "Hasil Cek NOPD di Setma: \n",
      "Jumlah Ada NOPD :  7\n",
      "Jumlah Tidak Ada NOPD :  8\n"
     ]
    }
   ],
   "source": [
    "df['CEK NOPD 2'] = np.where(df['CEK NAMA OP 1']=='BEDA', 'ADA', '-')\n",
    "df['CEK NOPD 2'] = np.where((df['CEK NAMA OP 1']=='BEDA')&(df['Nama'].isnull()), 'TIDAK ADA', df['CEK NOPD 2'])\n",
    "\n",
    "a = len(df[df['CEK NOPD 2']=='ADA'].index)\n",
    "ta = len(df[df['CEK NOPD 2']=='TIDAK ADA'].index)\n",
    "\n",
    "print('Hasil Cek NOPD di Setma: ')\n",
    "print('Jumlah Ada NOPD : ', a)\n",
    "print('Jumlah Tidak Ada NOPD : ', ta)"
   ]
  },
  {
   "cell_type": "markdown",
   "id": "4febd447",
   "metadata": {},
   "source": [
    "**C. Pengecekan Kesamaan Nama OP dengan yang ada pada data Setma yang tidak tertera NOPD**"
   ]
  },
  {
   "cell_type": "code",
   "execution_count": 18,
   "id": "a5a50f7a",
   "metadata": {},
   "outputs": [
    {
     "name": "stdout",
     "output_type": "stream",
     "text": [
      "Hasil Cek NAMA OP di Setma: \n",
      "Jumlah NAMA OP Sama :  3\n",
      "Jumlah NAMA OP Beda :  4\n"
     ]
    }
   ],
   "source": [
    "df['CEK NAMA OP 2'] = np.where(df['CEK NOPD 2']=='ADA', 'BEDA', '-')\n",
    "df['CEK NAMA OP 2'] = np.where((df['CEK NOPD 2']=='ADA')&(df['NAMA_OP']==df['Nama']), 'SAMA', df['CEK NAMA OP 2'])\n",
    "\n",
    "s = len(df[df['CEK NAMA OP 2']=='SAMA'].index)\n",
    "b = len(df[df['CEK NAMA OP 2']=='BEDA'].index)\n",
    "\n",
    "print('Hasil Cek NAMA OP di Setma: ')\n",
    "print('Jumlah NAMA OP Sama : ', s)\n",
    "print('Jumlah NAMA OP Beda : ', b)"
   ]
  },
  {
   "cell_type": "markdown",
   "id": "16c85bc5",
   "metadata": {},
   "source": [
    "Pengecekan duplikasi dan pengisian keterangan untuk data yang NOPD tidak ada pada data Setma"
   ]
  },
  {
   "cell_type": "code",
   "execution_count": 19,
   "id": "54601d64",
   "metadata": {},
   "outputs": [
    {
     "name": "stdout",
     "output_type": "stream",
     "text": [
      "Hasil Cek Duplikasi: \n",
      "Jumlah Duplikasi :  0\n",
      "Jumlah Tidak Ada Duplikasi :  3\n"
     ]
    }
   ],
   "source": [
    "df['DUPLICATE'] = np.where(df['CEK NAMA OP 2']=='BEDA', 'TIDAK VALID', df['DUPLICATE'])\n",
    "\n",
    "df['KETERANGAN'] = np.where(df['CEK NOPD 2']=='TIDAK ADA', 'NOPD TIDAK ADA DI SETMA', '-')\n",
    "df['KETERANGAN'] = np.where(df['CEK NAMA OP 2']=='BEDA', ('NAMA OP PADA SETMA '+df['Nama']+' DENGAN STATUS '+df['Status']), df['KETERANGAN'])\n",
    "\n",
    "df = df.sort_values(by=['GUID','NOPD','LOG_TIME'])\n",
    "\n",
    "df['CEK DUP'] = np.where(df['CEK NAMA OP 2']=='SAMA', 'NODUP', '-')\n",
    "df['CEK DUP'] = np.where((df['CEK NAMA OP 2']=='SAMA')&(df.duplicated(subset=['GUID','NOPD','NAMA_OP'], keep=False)), 'DUP', df['CEK DUP'])\n",
    "\n",
    "df['CEK DUP'].value_counts()\n",
    "\n",
    "d = len(df[df['CEK DUP']=='DUP'].index)\n",
    "nd = len(df[df['CEK DUP']=='NODUP'].index)\n",
    "\n",
    "print('Hasil Cek Duplikasi: ')\n",
    "print('Jumlah Duplikasi : ', d)\n",
    "print('Jumlah Tidak Ada Duplikasi : ', nd)"
   ]
  },
  {
   "cell_type": "code",
   "execution_count": 20,
   "id": "19002613",
   "metadata": {},
   "outputs": [
    {
     "name": "stdout",
     "output_type": "stream",
     "text": [
      "Hasil Validasi Sementara: \n",
      "Jumlah Data Valid :  10197\n",
      "Jumlah Data Tidak Valid :  1531\n"
     ]
    }
   ],
   "source": [
    "df['DUPLICATE'] = np.where(df['CEK DUP']=='NODUP', 'VALID', df['DUPLICATE'])\n",
    "df['DUPLICATE'] = np.where((df['CEK DUP']=='DUP')&(df.duplicated(subset=['GUID','NOPD','NAMA_OP'], keep='first')), 'VALID', df['DUPLICATE'])\n",
    "\n",
    "v = len(df[df['DUPLICATE']=='VALID'].index)\n",
    "tv = len(df[df['DUPLICATE']=='TIDAK VALID'].index)\n",
    "\n",
    "print('Hasil Validasi Sementara: ')\n",
    "print('Jumlah Data Valid : ', v)\n",
    "print('Jumlah Data Tidak Valid : ', tv)"
   ]
  },
  {
   "cell_type": "markdown",
   "id": "8fe40830",
   "metadata": {},
   "source": [
    "Pengecekan duplikasi data yang NOPD tidak ada pada data Setma"
   ]
  },
  {
   "cell_type": "code",
   "execution_count": 21,
   "id": "9d7250f8",
   "metadata": {},
   "outputs": [
    {
     "name": "stdout",
     "output_type": "stream",
     "text": [
      "Hasil Cek Duplikasi: \n",
      "Jumlah Duplikasi :  0\n",
      "Jumlah Tidak Ada Duplikasi :  8\n"
     ]
    }
   ],
   "source": [
    "df['CEK DUP 2'] = np.where(df['CEK NOPD 2']=='TIDAK ADA', 'NODUP', '-')\n",
    "df['CEK DUP 2'] = np.where((df['CEK NOPD 2']=='TIDAK ADA')&(df.duplicated(subset=['GUID','NOPD','NAMA_OP'], keep=False)), 'DUP', df['CEK DUP 2'])\n",
    "\n",
    "d = len(df[df['CEK DUP 2']=='DUP'].index)\n",
    "nd = len(df[df['CEK DUP 2']=='NODUP'].index)\n",
    "\n",
    "print('Hasil Cek Duplikasi: ')\n",
    "print('Jumlah Duplikasi : ', d)\n",
    "print('Jumlah Tidak Ada Duplikasi : ', nd)"
   ]
  },
  {
   "cell_type": "code",
   "execution_count": 22,
   "id": "74236231",
   "metadata": {},
   "outputs": [
    {
     "name": "stdout",
     "output_type": "stream",
     "text": [
      "Hasil Validasi Sementara: \n",
      "Jumlah Data Valid :  10205\n",
      "Jumlah Data Tidak Valid :  1523\n"
     ]
    }
   ],
   "source": [
    "df['DUPLICATE'] = np.where(df['CEK DUP 2']=='NODUP', 'VALID', df['DUPLICATE'])\n",
    "df['DUPLICATE'] = np.where((df['CEK DUP 2']=='DUP')&(df.duplicated(subset=['GUID','NOPD','NAMA_OP'], keep='first')), 'VALID', df['DUPLICATE'])\n",
    "\n",
    "v = len(df[df['DUPLICATE']=='VALID'].index)\n",
    "tv = len(df[df['DUPLICATE']=='TIDAK VALID'].index)\n",
    "\n",
    "print('Hasil Validasi Sementara: ')\n",
    "print('Jumlah Data Valid : ', v)\n",
    "print('Jumlah Data Tidak Valid : ', tv)"
   ]
  },
  {
   "cell_type": "markdown",
   "id": "6bee2020",
   "metadata": {},
   "source": [
    "Menampilkan data hasil join dan pengecekan validasi beserta field pendukung dari data Setma"
   ]
  },
  {
   "cell_type": "code",
   "execution_count": null,
   "id": "8d8fe3ca",
   "metadata": {},
   "outputs": [],
   "source": [
    "df = df[['GUID', 'NAMA_OP', 'NOPD', 'LOG_TIME', 'Nama', 'Klasifikasi', 'Status', 'DUPLICATE', 'KETERANGAN']]\n",
    "df"
   ]
  },
  {
   "cell_type": "markdown",
   "id": "bee9f6e8",
   "metadata": {},
   "source": [
    "# 7. PENGECEKAN VALIDASI DATA RESTO PADA DATA TABEL REFERENSI"
   ]
  },
  {
   "cell_type": "markdown",
   "id": "9245922e",
   "metadata": {},
   "source": [
    "**A. Join data OP Restoran hasil join pertama dan data Tabel Referensi Nama OP**"
   ]
  },
  {
   "cell_type": "code",
   "execution_count": null,
   "id": "5df207a6",
   "metadata": {},
   "outputs": [],
   "source": [
    "df1 = pd.merge(df,tab_ref, on = 'NAMA_OP', how='left')\n",
    "df1"
   ]
  },
  {
   "cell_type": "markdown",
   "id": "bafdd025",
   "metadata": {},
   "source": [
    "**B. Pengecekan duplikasi data pada data yang NOPD kosong**"
   ]
  },
  {
   "cell_type": "code",
   "execution_count": 25,
   "id": "db3cefd0",
   "metadata": {},
   "outputs": [
    {
     "name": "stdout",
     "output_type": "stream",
     "text": [
      "Hasil Cek Keterisian: \n",
      "Jumlah Data NOPD Terisi :  10205\n",
      "Jumlah Data NOPD Kosong :  1463 \n",
      "\n",
      "Hasil Cek Duplikasi Data NOPD Kosong: \n",
      "Jumlah Duplikasi :  38\n",
      "Jumlah Tidak Ada Duplikasi :  1425\n"
     ]
    }
   ],
   "source": [
    "df1['KET NOPD'] = np.where(df1['DUPLICATE']=='TIDAK VALID', '-', 'TERISI')\n",
    "df1['KET NOPD'] = np.where((df1['DUPLICATE']=='TIDAK VALID')&(df1['NOPD'].isnull()), 'KOSONG', df1['KET NOPD'])\n",
    "\n",
    "df1['CEK DUP'] = np.where(df1['KET NOPD']=='KOSONG', 'NONDUP', '-' )\n",
    "df1['CEK DUP'] = np.where((df1['CEK DUP']=='NONDUP')&(df1.duplicated(subset=['GUID','NAMA OP','DUPLICATE'], keep=False)), 'DUP', df1['CEK DUP'])\n",
    "\n",
    "df1 = df1.sort_values(by=['GUID','NAMA OP', 'LOG_TIME'])\n",
    "\n",
    "# df1\n",
    "k = len(df1[df1['KET NOPD']=='KOSONG'].index)\n",
    "t = len(df1[df1['KET NOPD']=='TERISI'].index)\n",
    "\n",
    "print('Hasil Cek Keterisian: ')\n",
    "print('Jumlah Data NOPD Terisi : ', t)\n",
    "print('Jumlah Data NOPD Kosong : ', k, '\\n')\n",
    "\n",
    "d = len(df1[df1['CEK DUP']=='DUP'].index)\n",
    "nd = len(df1[df1['CEK DUP']=='NONDUP'].index)\n",
    "\n",
    "print('Hasil Cek Duplikasi Data NOPD Kosong: ')\n",
    "print('Jumlah Duplikasi : ', d)\n",
    "print('Jumlah Tidak Ada Duplikasi : ', nd)"
   ]
  },
  {
   "cell_type": "markdown",
   "id": "87fd9671",
   "metadata": {},
   "source": [
    "**C. Pengecekan data terupdate berdasarkan Logtime pada data yang duplikat**"
   ]
  },
  {
   "cell_type": "code",
   "execution_count": 26,
   "id": "4a20b333",
   "metadata": {},
   "outputs": [
    {
     "name": "stdout",
     "output_type": "stream",
     "text": [
      "Hasil Cek Logtime Data NAMA OP Sama: \n",
      "Jumlah Data Terupdate :  19\n",
      "Jumlah Data Lama :  19\n"
     ]
    }
   ],
   "source": [
    "# cek data terbaru dengan NAMA OP sama\n",
    "df1['CEK UP'] = np.where(df1['CEK DUP']=='DUP', 'LAMA', '-')\n",
    "df1['CEK UP'] = np.where((df1['CEK DUP']=='DUP')&(df1.duplicated(subset=['GUID','NAMA OP'], keep='first')), 'BARU', df1['CEK UP'])\n",
    "\n",
    "b = len(df1[df1['CEK UP']=='BARU'].index)\n",
    "l = len(df1[df1['CEK UP']=='LAMA'].index)\n",
    "\n",
    "print('Hasil Cek Logtime Data NAMA OP Sama: ')\n",
    "print('Jumlah Data Terupdate : ', b)\n",
    "print('Jumlah Data Lama : ', l)"
   ]
  },
  {
   "cell_type": "code",
   "execution_count": 27,
   "id": "5bd3753f",
   "metadata": {},
   "outputs": [
    {
     "name": "stdout",
     "output_type": "stream",
     "text": [
      "Hasil Validasi Sementara: \n",
      "Jumlah Data Valid :  11649\n",
      "Jumlah Data Tidak Valid :  79\n"
     ]
    }
   ],
   "source": [
    "df1['DUPLICATE'] = np.where(df1['CEK UP']=='BARU', 'VALID', df1['DUPLICATE'])\n",
    "df1['DUPLICATE'] = np.where(df1['CEK DUP']=='NONDUP', 'VALID', df1['DUPLICATE'])\n",
    "\n",
    "v = len(df1[df1['DUPLICATE']=='VALID'].index)\n",
    "tv = len(df1[df1['DUPLICATE']=='TIDAK VALID'].index)\n",
    "\n",
    "print('Hasil Validasi Sementara: ')\n",
    "print('Jumlah Data Valid : ', v)\n",
    "print('Jumlah Data Tidak Valid : ', tv)"
   ]
  },
  {
   "cell_type": "markdown",
   "id": "d6bf26e8",
   "metadata": {},
   "source": [
    "# 8. PENGECEKAN KEMBALI VALIDASI DATA VALID"
   ]
  },
  {
   "cell_type": "markdown",
   "id": "6a0bb5fd",
   "metadata": {},
   "source": [
    "**A. Pengecekan kembali validasi data valid**"
   ]
  },
  {
   "cell_type": "code",
   "execution_count": 28,
   "id": "e91e99ea",
   "metadata": {},
   "outputs": [
    {
     "name": "stdout",
     "output_type": "stream",
     "text": [
      "Hasil Cek Duplikasi Data Valid: \n",
      "Jumlah Data Duplicate :  364\n",
      "Jumlah Data Tidak Duplicate :  11285\n"
     ]
    }
   ],
   "source": [
    "df1['CEK DUP 0'] = np.where(df1['DUPLICATE']=='VALID', 'NODUP', '-')\n",
    "df1['CEK DUP 0'] = np.where((df1['CEK DUP 0']=='NODUP')&(df1.duplicated(subset=['GUID','NAMA OP'], keep=False)), 'DUP', df1['CEK DUP 0'])\n",
    "\n",
    "\n",
    "d = len(df1[df1['CEK DUP 0']=='DUP'].index)\n",
    "nd = len(df1[df1['CEK DUP 0']=='NODUP'].index)\n",
    "\n",
    "print('Hasil Cek Duplikasi Data Valid: ')\n",
    "print('Jumlah Data Duplicate : ', d)\n",
    "print('Jumlah Data Tidak Duplicate : ', nd)"
   ]
  },
  {
   "cell_type": "code",
   "execution_count": 29,
   "id": "d7a62001",
   "metadata": {},
   "outputs": [
    {
     "name": "stdout",
     "output_type": "stream",
     "text": [
      "Hasil Cek Duplikasi Pada Data Valid: \n",
      "Jumlah Duplikat Kosong :  74\n",
      "Jumlah Duplikat Terisi :  11575\n"
     ]
    }
   ],
   "source": [
    "df1['CEK DUP 1'] = np.where(df1['DUPLICATE']=='VALID', 'NODUP', '-')\n",
    "df1['CEK DUP 1'] = np.where(((df1['DUPLICATE']=='VALID')&(df1.duplicated(subset=['GUID','NAMA OP'], keep=False)))&(df1['NOPD'].isnull()), 'DUP', df1['CEK DUP 1'])\n",
    "\n",
    "d = len(df1[df1['CEK DUP 1']=='DUP'].index)\n",
    "nd = len(df1[df1['CEK DUP 1']=='NODUP'].index)\n",
    "\n",
    "print('Hasil Cek Duplikasi Pada Data Valid: ')\n",
    "print('Jumlah Duplikat Kosong : ', d)\n",
    "print('Jumlah Duplikat Terisi : ', nd)"
   ]
  },
  {
   "cell_type": "code",
   "execution_count": 30,
   "id": "44a2fba6",
   "metadata": {},
   "outputs": [
    {
     "name": "stdout",
     "output_type": "stream",
     "text": [
      "Hasil Cek Duplikasi Pada Data Valid: \n",
      "Jumlah Kosong Duplikat :  19\n",
      "Jumlah Kosong Tidak Duplikat :  55\n"
     ]
    }
   ],
   "source": [
    "df1['KETERANGAN'] = np.where(df1['CEK DUP 1']=='DUP', 'DUPLIKAT DENGAN ADA NOPD', df1['KETERANGAN'])\n",
    "df1['DUPLICATE'] = np.where(df1['CEK DUP 1']=='DUP', 'TIDAK VALID', df1['DUPLICATE'])\n",
    "\n",
    "df1['KOS UP'] = np.where(((df1['KET NOPD']=='KOSONG')&(df1['CEK DUP']=='DUP')&(df1['CEK UP']=='BARU')), 'UP', '-')\n",
    "df1['KETERANGAN'] = np.where(((df1['KET NOPD']=='KOSONG')&(df1['CEK DUP']=='DUP')&(df1['CEK UP']=='BARU')), '-', df1['KETERANGAN'])\n",
    "df1['DUPLICATE'] = np.where(((df1['KET NOPD']=='KOSONG')&(df1['CEK DUP']=='DUP')&(df1['CEK UP']=='BARU')), 'VALID', df1['DUPLICATE'])\n",
    "\n",
    "u = len(df1[df1['KOS UP']=='UP'].index)\n",
    "\n",
    "print('Hasil Cek Duplikasi Pada Data Valid: ')\n",
    "print('Jumlah Kosong Duplikat : ', u)\n",
    "print('Jumlah Kosong Tidak Duplikat : ', d-u)"
   ]
  },
  {
   "cell_type": "markdown",
   "id": "a5fd19af",
   "metadata": {},
   "source": [
    "**B. Menampilkan hasil validasi akhir**"
   ]
  },
  {
   "cell_type": "code",
   "execution_count": 31,
   "id": "572d4ab6",
   "metadata": {},
   "outputs": [
    {
     "name": "stdout",
     "output_type": "stream",
     "text": [
      "Hasil Validasi Akhir: \n",
      "Jumlah Data Valid :  11594\n",
      "Jumlah Data Tidak Valid :  134\n"
     ]
    }
   ],
   "source": [
    "v = len(df1[df1['DUPLICATE']=='VALID'].index)\n",
    "tv = len(df1[df1['DUPLICATE']=='TIDAK VALID'].index)\n",
    "\n",
    "print('Hasil Validasi Akhir: ')\n",
    "print('Jumlah Data Valid : ', v)\n",
    "print('Jumlah Data Tidak Valid : ', tv)"
   ]
  },
  {
   "cell_type": "markdown",
   "id": "cf2465bd",
   "metadata": {},
   "source": [
    "# 9. FORMATING AKHIR DAN EXPORT DATA HASIL VALIDASI"
   ]
  },
  {
   "cell_type": "markdown",
   "id": "e5ff6a27",
   "metadata": {},
   "source": [
    "**A. Pengaturan susunan dan penamaan variable dari hasil akhir validasi data OP Restoran**"
   ]
  },
  {
   "cell_type": "code",
   "execution_count": null,
   "id": "14189d61",
   "metadata": {},
   "outputs": [],
   "source": [
    "df1 = df1[['GUID', 'NAMA_OP', 'Nama', 'NAMA OP', 'NOPD', 'LOG_TIME', 'Status', 'DUPLICATE', 'KETERANGAN']]\n",
    "df1.rename(columns={'Nama': 'NAMA_SETMA', 'NAMA OP': 'NAMA_TAB_REF', 'Status': 'STATUS_SETMA'}, inplace=True)\n",
    "df1 = df1.sort_values(by=['GUID','NAMA_OP', 'NOPD','LOG_TIME'])\n",
    "df1"
   ]
  },
  {
   "cell_type": "markdown",
   "id": "b9f41a79",
   "metadata": {},
   "source": [
    "Menampilkan sample output hasil analisa validasi data OP Restoran"
   ]
  },
  {
   "cell_type": "code",
   "execution_count": null,
   "id": "6fa5cd67",
   "metadata": {},
   "outputs": [],
   "source": [
    "df1[(df1['GUID']=='{EF8BDF3A-0D63-49C7-9FB7-F155C7906FB0}')&(df1['NAMA_OP']=='BAKMI GM')]"
   ]
  },
  {
   "cell_type": "code",
   "execution_count": null,
   "id": "d6c295d3",
   "metadata": {},
   "outputs": [],
   "source": [
    "df1[(df1['GUID']=='{12658EFB-62A8-47C2-860E-9AAD3FBDC89F}')&(df1['NAMA_TAB_REF']=='XING FU BAO')]"
   ]
  },
  {
   "cell_type": "markdown",
   "id": "6f86eea3",
   "metadata": {},
   "source": [
    "**B. Export data dalam bentuk Excel**"
   ]
  },
  {
   "cell_type": "code",
   "execution_count": 35,
   "id": "908f2a5a",
   "metadata": {},
   "outputs": [
    {
     "name": "stdout",
     "output_type": "stream",
     "text": [
      "Selesai\n"
     ]
    }
   ],
   "source": [
    "datatoexcel = pd.ExcelWriter('C:/Users/ASUS/Documents/Sabila Haq/Junior DS/Data_20-10-2022/resto/Hasil Validasi_1.xlsx')\n",
    "df1.to_excel(datatoexcel)\n",
    "datatoexcel.save()\n",
    "print('Selesai')"
   ]
  },
  {
   "cell_type": "markdown",
   "id": "6a8eaf7b",
   "metadata": {},
   "source": [
    "Menampilkan 40 baris output hasil analisa validasi data OP Restoran"
   ]
  },
  {
   "cell_type": "code",
   "execution_count": null,
   "id": "5093e31e",
   "metadata": {},
   "outputs": [],
   "source": [
    "df1[df1['DUPLICATE']=='TIDAK VALID'].head(40)"
   ]
  },
  {
   "cell_type": "code",
   "execution_count": 37,
   "id": "62b62106",
   "metadata": {},
   "outputs": [
    {
     "data": {
      "text/html": [
       "<div>\n",
       "<style scoped>\n",
       "    .dataframe tbody tr th:only-of-type {\n",
       "        vertical-align: middle;\n",
       "    }\n",
       "\n",
       "    .dataframe tbody tr th {\n",
       "        vertical-align: top;\n",
       "    }\n",
       "\n",
       "    .dataframe thead th {\n",
       "        text-align: right;\n",
       "    }\n",
       "</style>\n",
       "<table border=\"1\" class=\"dataframe\">\n",
       "  <thead>\n",
       "    <tr style=\"text-align: right;\">\n",
       "      <th></th>\n",
       "      <th>GUID</th>\n",
       "      <th>NAMA_OP</th>\n",
       "      <th>NAMA_SETMA</th>\n",
       "      <th>NAMA_TAB_REF</th>\n",
       "      <th>NOPD</th>\n",
       "      <th>LOG_TIME</th>\n",
       "      <th>STATUS_SETMA</th>\n",
       "      <th>DUPLICATE</th>\n",
       "      <th>KETERANGAN</th>\n",
       "    </tr>\n",
       "  </thead>\n",
       "  <tbody>\n",
       "    <tr>\n",
       "      <th>74</th>\n",
       "      <td>{018840C7-B10A-4347-8966-29270AE9C499}</td>\n",
       "      <td>KFC SHELL MAMPANG</td>\n",
       "      <td>NaN</td>\n",
       "      <td>KFC</td>\n",
       "      <td>1061505060035</td>\n",
       "      <td>2021-08-20 16:47:27</td>\n",
       "      <td>NaN</td>\n",
       "      <td>TIDAK VALID</td>\n",
       "      <td>-</td>\n",
       "    </tr>\n",
       "    <tr>\n",
       "      <th>75</th>\n",
       "      <td>{018840C7-B10A-4347-8966-29270AE9C499}</td>\n",
       "      <td>KFC SHELL MAMPANG</td>\n",
       "      <td>NaN</td>\n",
       "      <td>KFC</td>\n",
       "      <td>1061505060035</td>\n",
       "      <td>2021-10-27 13:48:56</td>\n",
       "      <td>NaN</td>\n",
       "      <td>VALID</td>\n",
       "      <td>-</td>\n",
       "    </tr>\n",
       "  </tbody>\n",
       "</table>\n",
       "</div>"
      ],
      "text/plain": [
       "                                      GUID            NAMA_OP NAMA_SETMA  \\\n",
       "74  {018840C7-B10A-4347-8966-29270AE9C499}  KFC SHELL MAMPANG        NaN   \n",
       "75  {018840C7-B10A-4347-8966-29270AE9C499}  KFC SHELL MAMPANG        NaN   \n",
       "\n",
       "   NAMA_TAB_REF           NOPD            LOG_TIME STATUS_SETMA    DUPLICATE  \\\n",
       "74          KFC  1061505060035 2021-08-20 16:47:27          NaN  TIDAK VALID   \n",
       "75          KFC  1061505060035 2021-10-27 13:48:56          NaN        VALID   \n",
       "\n",
       "   KETERANGAN  \n",
       "74          -  \n",
       "75          -  "
      ]
     },
     "execution_count": 37,
     "metadata": {},
     "output_type": "execute_result"
    }
   ],
   "source": [
    "df1[df1['NAMA_OP']=='KFC SHELL MAMPANG']"
   ]
  },
  {
   "cell_type": "markdown",
   "id": "44250f6c",
   "metadata": {},
   "source": [
    "**SELESAI**"
   ]
  }
 ],
 "metadata": {
  "kernelspec": {
   "display_name": "Python 3 (ipykernel)",
   "language": "python",
   "name": "python3"
  },
  "language_info": {
   "codemirror_mode": {
    "name": "ipython",
    "version": 3
   },
   "file_extension": ".py",
   "mimetype": "text/x-python",
   "name": "python",
   "nbconvert_exporter": "python",
   "pygments_lexer": "ipython3",
   "version": "3.9.13"
  }
 },
 "nbformat": 4,
 "nbformat_minor": 5
}
